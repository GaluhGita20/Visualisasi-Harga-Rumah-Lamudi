{
 "cells": [
  {
   "cell_type": "code",
   "execution_count": 5,
   "metadata": {},
   "outputs": [],
   "source": [
    "import pandas as pd\n",
    "import matplotlib.pyplot as plt\n",
    "import seaborn as sns\n",
    "\n",
    "import statsmodels.formula.api as smf\n",
    "from statsmodels.formula.api import ols\n",
    "import statsmodels.api as sm\n",
    "\n",
    "from sklearn.preprocessing import MinMaxScaler\n",
    "from statsmodels.stats.outliers_influence import variance_inflation_factor"
   ]
  },
  {
   "cell_type": "code",
   "execution_count": 6,
   "metadata": {},
   "outputs": [
    {
     "data": {
      "text/html": [
       "<div>\n",
       "<style scoped>\n",
       "    .dataframe tbody tr th:only-of-type {\n",
       "        vertical-align: middle;\n",
       "    }\n",
       "\n",
       "    .dataframe tbody tr th {\n",
       "        vertical-align: top;\n",
       "    }\n",
       "\n",
       "    .dataframe thead th {\n",
       "        text-align: right;\n",
       "    }\n",
       "</style>\n",
       "<table border=\"1\" class=\"dataframe\">\n",
       "  <thead>\n",
       "    <tr style=\"text-align: right;\">\n",
       "      <th></th>\n",
       "      <th>title</th>\n",
       "      <th>harga</th>\n",
       "      <th>alamat</th>\n",
       "      <th>parkir_motor</th>\n",
       "      <th>kamar_tidur</th>\n",
       "      <th>kamar_mandi</th>\n",
       "      <th>jmlh_lantai</th>\n",
       "      <th>luas_bangunan</th>\n",
       "      <th>luas_tanah</th>\n",
       "      <th>kabupaten</th>\n",
       "    </tr>\n",
       "  </thead>\n",
       "  <tbody>\n",
       "    <tr>\n",
       "      <th>0</th>\n",
       "      <td>rumah murah lokasi strategis karangasem</td>\n",
       "      <td>250000000</td>\n",
       "      <td>karangasem</td>\n",
       "      <td>20</td>\n",
       "      <td>2</td>\n",
       "      <td>1</td>\n",
       "      <td>1</td>\n",
       "      <td>36.0</td>\n",
       "      <td>100</td>\n",
       "      <td>karangasem</td>\n",
       "    </tr>\n",
       "    <tr>\n",
       "      <th>1</th>\n",
       "      <td>rumah minimalis murah lokasi strategis karangasem</td>\n",
       "      <td>250000000</td>\n",
       "      <td>karang asem, karangasem</td>\n",
       "      <td>20</td>\n",
       "      <td>2</td>\n",
       "      <td>1</td>\n",
       "      <td>1</td>\n",
       "      <td>36.0</td>\n",
       "      <td>100</td>\n",
       "      <td>karangasem</td>\n",
       "    </tr>\n",
       "    <tr>\n",
       "      <th>2</th>\n",
       "      <td>rumah subsidi dekat kota karangasem bali</td>\n",
       "      <td>178000000</td>\n",
       "      <td>karang asem, karangasem</td>\n",
       "      <td>10</td>\n",
       "      <td>2</td>\n",
       "      <td>1</td>\n",
       "      <td>1</td>\n",
       "      <td>30.0</td>\n",
       "      <td>60</td>\n",
       "      <td>karangasem</td>\n",
       "    </tr>\n",
       "  </tbody>\n",
       "</table>\n",
       "</div>"
      ],
      "text/plain": [
       "                                               title      harga  \\\n",
       "0            rumah murah lokasi strategis karangasem  250000000   \n",
       "1  rumah minimalis murah lokasi strategis karangasem  250000000   \n",
       "2           rumah subsidi dekat kota karangasem bali  178000000   \n",
       "\n",
       "                    alamat  parkir_motor  kamar_tidur  kamar_mandi  \\\n",
       "0               karangasem            20            2            1   \n",
       "1  karang asem, karangasem            20            2            1   \n",
       "2  karang asem, karangasem            10            2            1   \n",
       "\n",
       "   jmlh_lantai  luas_bangunan  luas_tanah   kabupaten  \n",
       "0            1           36.0         100  karangasem  \n",
       "1            1           36.0         100  karangasem  \n",
       "2            1           30.0          60  karangasem  "
      ]
     },
     "execution_count": 6,
     "metadata": {},
     "output_type": "execute_result"
    }
   ],
   "source": [
    "data=pd.read_csv('C:\\Data Analytics and Visualization\\House Price Prediction\\Visualisasi-Harga-Rumah-Lamudi\\static\\data\\data harga rumah clean baru.csv')\n",
    "data.head(3)"
   ]
  },
  {
   "cell_type": "code",
   "execution_count": 9,
   "metadata": {},
   "outputs": [
    {
     "name": "stdout",
     "output_type": "stream",
     "text": [
      "Hipotesis :\n",
      "H0 : kabupaten memiliki pengaruh yang sama\n",
      "H1 : Setidaknya terdapat satu kabupaten yang berbeda\n",
      "Alpha = 0.05\n",
      "==================================================\n",
      "Hasil uji ANOVA:\n",
      "               df        sum_sq       mean_sq           F         PR(>F)\n",
      "kabupaten     7.0  5.601525e+20  8.002178e+19  101.244294  9.518110e-142\n",
      "Residual   7191.0  5.683645e+21  7.903831e+17         NaN            NaN\n"
     ]
    }
   ],
   "source": [
    "print(\"Hipotesis :\")\n",
    "print(\"H0 : kabupaten memiliki pengaruh yang sama\")\n",
    "print(\"H1 : Setidaknya terdapat satu kabupaten yang berbeda\")\n",
    "print(\"Alpha = 0.05\")\n",
    "anova_test=ols('harga ~ kabupaten', data=data).fit()\n",
    "annova_kab=sm.stats.anova_lm(anova_test, type=2)\n",
    "print(\"=\"*50)\n",
    "print(\"Hasil uji ANOVA:\")\n",
    "print(annova_kab)"
   ]
  },
  {
   "cell_type": "markdown",
   "metadata": {},
   "source": [
    "**Hasil**\n",
    "* P-value menunjukkan nilai **9.518110e-142** yang nilainya **lebih kecil** dibandingkan nilai alpha (signifikan level) yaitu 0.05.\n",
    "* Tolak H0 = Nilai kabupaten berpengaruh terhadap harga rumah"
   ]
  },
  {
   "cell_type": "code",
   "execution_count": 7,
   "metadata": {},
   "outputs": [
    {
     "data": {
      "image/png": "[encoded data removed]",
      "text/plain": [
       "<Figure size 432x432 with 2 Axes>"
      ]
     },
     "metadata": {
      "needs_background": "light"
     },
     "output_type": "display_data"
    }
   ],
   "source": [
    "columns_ = [\"harga\", \"parkir_motor\", \"kamar_tidur\", \"kamar_mandi\", \"jmlh_lantai\", \"luas_bangunan\", \"luas_tanah\"]\n",
    "corr_ = data[columns_].corr()\n",
    "plt.figure(figsize = (6,6))\n",
    "sns.heatmap(corr_, fmt= \".3f\", annot= True,square= True)\n",
    "plt.show()"
   ]
  },
  {
   "cell_type": "markdown",
   "metadata": {},
   "source": [
    "**Hasil**\n",
    "* yang berkolerasi rendah dengan harga itu parkir motor dan jumlah lantai. Apakah perlu dihilangkan?"
   ]
  },
  {
   "cell_type": "markdown",
   "metadata": {},
   "source": [
    "# Multikolinearitas"
   ]
  },
  {
   "cell_type": "code",
   "execution_count": 20,
   "metadata": {},
   "outputs": [],
   "source": [
    "def preprocessing(X):    \n",
    "    vif = pd.DataFrame()\n",
    "    vif[\"VIF\"] = [variance_inflation_factor(X, i) for i in range(X.shape[1])]\n",
    "    vif[\"Features\"] = X.columns\n",
    "    print(vif)"
   ]
  },
  {
   "cell_type": "code",
   "execution_count": 21,
   "metadata": {},
   "outputs": [
    {
     "name": "stdout",
     "output_type": "stream",
     "text": [
      "         VIF       Features\n",
      "0   3.947905   parkir_motor\n",
      "1  22.098036    kamar_tidur\n",
      "2  15.037395    kamar_mandi\n",
      "3  12.976851    jmlh_lantai\n",
      "4  20.275121  luas_bangunan\n",
      "5  24.580001     luas_tanah\n"
     ]
    }
   ],
   "source": [
    "X= data[['parkir_motor','kamar_tidur', 'kamar_mandi', 'jmlh_lantai', 'luas_bangunan', 'luas_tanah']]\n",
    "preprocessing(X)"
   ]
  },
  {
   "cell_type": "markdown",
   "metadata": {},
   "source": [
    "* Jika tidak menggunakan scaling, nilai VIF-nya sangat tinggi"
   ]
  },
  {
   "cell_type": "code",
   "execution_count": 22,
   "metadata": {},
   "outputs": [],
   "source": [
    "def preprocessing(X):    \n",
    "    scaler = MinMaxScaler()\n",
    "    X_scaled = scaler.fit_transform(X)\n",
    "    variables = X_scaled\n",
    "    vif = pd.DataFrame()\n",
    "    vif[\"VIF\"] = [variance_inflation_factor(variables, i) for i in range(variables.shape[1])]\n",
    "    vif[\"Features\"] = X.columns\n",
    "    print(vif)"
   ]
  },
  {
   "cell_type": "code",
   "execution_count": 12,
   "metadata": {},
   "outputs": [
    {
     "name": "stdout",
     "output_type": "stream",
     "text": [
      "         VIF       Features\n",
      "0   1.911379   parkir_motor\n",
      "1   9.258716    kamar_tidur\n",
      "2   6.407145    kamar_mandi\n",
      "3   3.959388    jmlh_lantai\n",
      "4  16.321308  luas_bangunan\n",
      "5  16.506212     luas_tanah\n"
     ]
    }
   ],
   "source": [
    "X= data[['parkir_motor','kamar_tidur', 'kamar_mandi', 'jmlh_lantai', 'luas_bangunan', 'luas_tanah']]\n",
    "preprocessing(X)"
   ]
  },
  {
   "cell_type": "markdown",
   "metadata": {},
   "source": [
    "* Nilai VIF tinggi = multikolinearitasnya kuat banget apakagi di luas bangunan, luas tanah"
   ]
  },
  {
   "cell_type": "code",
   "execution_count": 28,
   "metadata": {},
   "outputs": [
    {
     "name": "stdout",
     "output_type": "stream",
     "text": [
      "        VIF      Features\n",
      "0  1.573069  parkir_motor\n",
      "1  9.258564   kamar_tidur\n",
      "2  6.221455   kamar_mandi\n",
      "3  3.164233   jmlh_lantai\n",
      "4  6.633115    luas_tanah\n"
     ]
    }
   ],
   "source": [
    "X= data[['parkir_motor','kamar_tidur', 'kamar_mandi', 'jmlh_lantai','luas_tanah']]\n",
    "preprocessing(X)"
   ]
  },
  {
   "cell_type": "markdown",
   "metadata": {},
   "source": [
    "* Nilai VIF udah sedikit lebih rendah -> tetapi itu akibat menghapus nilai luas bangunan, sedangkan luas bangunana merupakan fitur yang penting"
   ]
  },
  {
   "cell_type": "code",
   "execution_count": 29,
   "metadata": {},
   "outputs": [
    {
     "name": "stdout",
     "output_type": "stream",
     "text": [
      "         VIF       Features\n",
      "0   9.071012    kamar_tidur\n",
      "1   6.378395    kamar_mandi\n",
      "2   3.952386    jmlh_lantai\n",
      "3  12.305601     luas_tanah\n",
      "4  13.432471  luas_bangunan\n"
     ]
    }
   ],
   "source": [
    "X= data[['kamar_tidur', 'kamar_mandi', 'jmlh_lantai','luas_tanah', 'luas_bangunan']]\n",
    "preprocessing(X)"
   ]
  },
  {
   "cell_type": "markdown",
   "metadata": {},
   "source": [
    "* Jika tidak menggunakan nilai parkir_motor"
   ]
  },
  {
   "cell_type": "code",
   "execution_count": null,
   "metadata": {},
   "outputs": [],
   "source": []
  }
 ],
 "metadata": {
  "kernelspec": {
   "display_name": "Python 3 (ipykernel)",
   "language": "python",
   "name": "python3"
  },
  "language_info": {
   "codemirror_mode": {
    "name": "ipython",
    "version": 3
   },
   "file_extension": ".py",
   "mimetype": "text/x-python",
   "name": "python",
   "nbconvert_exporter": "python",
   "pygments_lexer": "ipython3",
   "version": "3.9.6"
  }
 },
 "nbformat": 4,
 "nbformat_minor": 2
}
